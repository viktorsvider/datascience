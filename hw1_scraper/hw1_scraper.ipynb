{
 "cells": [
  {
   "cell_type": "markdown",
   "metadata": {},
   "source": [
    "## APIs and Web Scraping"
   ]
  },
  {
   "cell_type": "markdown",
   "metadata": {},
   "source": [
    "## Introduction\n",
    "\n",
    "Welcome to the homework on web scraping. While many people might view working with data (including scraping, parsing, storing, etc.) a necessary evil to get to the \"fun\" stuff (i.e. modeling), we think that if presented in the right way this munging can be quite empowering. Imagine you never had to worry or ask those _what if_ questions about data existing or being accessible... but that you can get it yourself!\n",
    "\n",
    "By the end of this exercise hopefully you should look at the wonderful world wide web without fear, comforted by the fact that anything you can see with your human eyes, a computer can see with its computer eyes...\n",
    " \n",
    "### Objectives\n",
    "\n",
    "More concretely, this homework will teach you (and test you on):\n",
    "\n",
    "* HTTP Requests (and lifecycle)\n",
    "* RESTful APIs\n",
    "    * Authentication (OAuth)\n",
    "    * Pagination\n",
    "    * Rate limiting\n",
    "* JSON vs. HTML (and how to parse each)\n",
    "* HTML traversal (CSS selectors)\n",
    "\n",
    "### Library Documentation\n",
    "\n",
    "* Standard Library: \n",
    "    * [io](https://docs.python.org/2/library/io.html)\n",
    "    * [time](https://docs.python.org/2/library/time.html)\n",
    "    * [json](https://docs.python.org/2/library/json.html)\n",
    "\n",
    "* Third Party\n",
    "    * [requests](http://docs.python-requests.org/en/master/)\n",
    "    * [Beautiful Soup (version 4)](https://www.crummy.com/software/BeautifulSoup/bs4/doc/)\n",
    "    * [yelp-fusion](https://www.yelp.com/developers/documentation/v3/get_started)\n",
    "\n",
    "**Note:** You may come across a `yelp-python` library online. The library is deprecated and incompatible with the current Yelp API, so do not use the library."
   ]
  },
  {
   "cell_type": "markdown",
   "metadata": {},
   "source": [
    "## Working with APIs\n",
    "\n",
    "Since everyone loves food (presumably), the ultimate end goal of this homework will be to acquire the data to answer some questions and hypotheses about the restaurant scene in Pittsburgh (which we will get to later). We will download __both__ the metadata on restaurants in Pittsburgh from the Yelp API and with this metadata, retrieve the comments/reviews and ratings from users on restaurants.\n",
    "\n",
    "But first things first, let's do the \"hello world\" of making web requests with Python to get a sense for how to programmatically access web pages: an (unauthenticated) HTTP GET to download a web page.\n",
    "\n",
    "---"
   ]
  },
  {
   "cell_type": "code",
   "execution_count": 5,
   "metadata": {},
   "outputs": [],
   "source": [
    "# setup library imports\n",
    "import io, time, json\n",
    "import requests\n",
    "from bs4 import BeautifulSoup\n",
    "import re\n",
    "import mugrade\n",
    "import os\n",
    "import dotenv\n",
    "import time\n",
    "import datetime\n",
    "import playwright\n",
    "import math"
   ]
  },
  {
   "cell_type": "code",
   "execution_count": 6,
   "metadata": {},
   "outputs": [
    {
     "data": {
      "text/plain": [
       "True"
      ]
     },
     "execution_count": 6,
     "metadata": {},
     "output_type": "execute_result"
    }
   ],
   "source": [
    "dotenv.load_dotenv()"
   ]
  },
  {
   "cell_type": "code",
   "execution_count": 23,
   "metadata": {},
   "outputs": [],
   "source": [
    "YELP_API_KEY = dotenv.get_key(\".env\", \"YELP_API_KEY\")"
   ]
  },
  {
   "cell_type": "markdown",
   "metadata": {},
   "source": [
    "## Q0: Basic HTTP Requests\n",
    "\n",
    "Fill in the funtion to use `requests` to download and return the raw HTML content of the URL passed in as an argument. As an example try the following NYT article (on Facebook's algorithmic news feed): [http://www.nytimes.com/2016/08/28/magazine/inside-facebooks-totally-insane-unintentionally-gigantic-hyperpartisan-political-media-machine.html](http://www.nytimes.com/2016/08/28/magazine/inside-facebooks-totally-insane-unintentionally-gigantic-hyperpartisan-political-media-machine.html)\n",
    "\n",
    "> Your function should return a tuple of: (`<status_code>`, `<raw_html>`)\n",
    "\n",
    "```python\n",
    ">>> facebook_article = retrieve_html('http://www.nytimes.com/2016/08/28/magazine/inside-facebooks-totally-insane-unintentionally-gigantic-hyperpartisan-political-media-machine.html')\n",
    ">>> print(facebook_article)\n",
    "(200, u'<!DOCTYPE html>\\n<!--[if (gt IE 9)|!(IE)]> <!--> <html lang=\"en\" class=\"no-js section-magazine...')\n",
    "```"
   ]
  },
  {
   "cell_type": "code",
   "execution_count": 7,
   "metadata": {},
   "outputs": [
    {
     "name": "stdout",
     "output_type": "stream",
     "text": [
      "Running local tests for function retrieve_html():\n",
      "  Test 1 PASSED\n",
      "  Test 2 PASSED\n",
      "  Test 3 PASSED\n",
      "  Test 4 PASSED\n"
     ]
    }
   ],
   "source": [
    "@mugrade.local_tests\n",
    "def retrieve_html(url):\n",
    "    \"\"\"\n",
    "    Return the raw HTML at the specified URL.\n",
    "\n",
    "    Args:\n",
    "        url (string): \n",
    "\n",
    "    Returns:\n",
    "        status_code (integer):\n",
    "        raw_html (string): the raw HTML content of the response, properly encoded according to the HTTP headers.\n",
    "    \"\"\"\n",
    "    response = requests.get(url)\n",
    "\n",
    "    return response.status_code, response.text"
   ]
  },
  {
   "cell_type": "markdown",
   "metadata": {},
   "source": [
    "Now while this example might have been fun, we haven't yet done anything more than we could with a web browser. To really see the power of programmatically making web requests we will need to interact with a API. For the rest of this homework we will be working with the [Yelp API](https://www.yelp.com/developers/documentation/v3/get_started) and Yelp data (for an extensive data dump see their [Academic Dataset Challenge](https://www.yelp.com/dataset_challenge)). The reasons for using the Yelp API are 3 fold:\n",
    "\n",
    "1. Incredibly rich dataset that combines:\n",
    "    * entity data (users and businesses)\n",
    "    * preferences (i.e. ratings)\n",
    "    * geographic data (business location and check-ins)\n",
    "    * temporal data\n",
    "    * text in the form of reviews\n",
    "    * and even images.\n",
    "2. Well [documented API](https://www.yelp.com/developers/documentation/v3/get_started) with thorough examples.\n",
    "3. Extensive data coverage so that you can find data that you know personally (from your home town/city or account). This will help with understanding and interpreting your results."
   ]
  },
  {
   "cell_type": "markdown",
   "metadata": {},
   "source": [
    "## Authentication\n",
    "\n",
    "To access the Yelp API however we will need to go through a few more steps than we did with the first NYT example. Most large web scale companies use a combination of authentication and rate limiting to control access to their data to ensure that everyone using it abides. The first step (even before we make any request) is to setup a Yelp account if you do not have one and get API credentials."
   ]
  },
  {
   "cell_type": "markdown",
   "metadata": {},
   "source": [
    "## Yelp API Access\n",
    "\n",
    "1. Create a Yelp account (if you do not have one already)\n",
    "2. [Generate API keys](https://www.yelp.com/developers/v3/manage_app) (if you haven't already). You will only need the API Key (not the Client ID or Client Secret) -- more on that later.\n"
   ]
  },
  {
   "cell_type": "markdown",
   "metadata": {},
   "source": [
    "Now that we have our accounts setup we can start making requests! There are various authentication schemes that APIs use, including:\n",
    "\n",
    "* No authentication\n",
    "* [HTTP basic authentication](https://en.wikipedia.org/wiki/Basic_access_authentication)\n",
    "* Cookie based user login\n",
    "* OAuth (v1.0 & v2.0, see this [post](http://stackoverflow.com/questions/4113934/how-is-oauth-2-different-from-oauth-1) explaining the differences)\n",
    "* API keys\n",
    "* Custom Authentication\n",
    "\n",
    "For the NYT example, since it is a publicly visible page we did not need to authenticate. HTTP basic authentication isn't too common for consumer sites/applications that have the concept of user accounts (like Facebook, LinkedIn, Twitter, etc.) but is simple to setup quickly and you often encounter it on with individual password protected pages/sites. I'm sure you have seen [this](http://i.stack.imgur.com/QnUZW.png) before somewhere.\n",
    "\n",
    "Cookie based user login is what the majority of services use when you login with a browser (i.e. username and password). Once you sign in to a service like Facebook, the response stores a cookie in your browser to remember that you have logged in (HTTP is stateless). Each subsequent request to the same domain (i.e. any page on `facebook.com`) also sends the cookie that contains the authentication information to remind Facebook's servers that you have already logged in.\n",
    "\n",
    "Many REST APIs however use OAuth (authentication using tokens) which can be thought of a programmatic way to \"login\" _another_ user. Using tokens, a user (or application) only needs to send the login credentials once in the initial authentication and as a response from the server gets a special signed token. This signed token is then sent in future requests to the server (in place of the user credentials).\n",
    "\n",
    "A similar concept common used by many APIs is to assign API Keys to each client that needs access to server resources. The client must then pass the API Key along with _every_ request it makes to the API to authenticate. This is because the server is typically relatively stateless and does not maintain a session between subsequent calls from the same client. Most APIs (including Yelp) allow you to pass the API Key via a special HTTP Header: `Authorization: Bearer <API_KEY>`. Check out the [docs](https://www.yelp.com/developers/documentation/v3/authentication) for more information.\n",
    "\n",
    "Yelp used to use OAuth tokens but has now switched to API Keys. **For the sake of backwards compatibility Yelp still provides a Client ID and Secret for OAuth, but you will not need those for this assignment.** \n",
    "\n",
    "---\n"
   ]
  },
  {
   "cell_type": "markdown",
   "metadata": {},
   "source": [
    "## Q1: Authenticated HTTP Request with the Yelp API\n",
    "\n",
    "Using the Yelp API, fill in the following function stub to make an authenticated request to the [search](https://docs.developer.yelp.com/reference/v3_business_search) endpoint. Note that you'll need to pass your API key to the function, but you can store this any way you like (it's best practice to store the API key in a separate file, but fine to simply include it in your function for this simple example).\n",
    "\n",
    "When writing the python request, you'll need to pass in a custom header as well as a parameter. Here are some examples for [response headers](http://docs.python-requests.org/en/master/user/quickstart/#response-headers) and [passing parameters in urls](http://docs.python-requests.org/en/master/user/quickstart/#passing-parameters-in-urls)\n",
    "\n",
    "```python\n",
    ">>> num_records, data = yelp_search('Pittsburgh')\n",
    ">>> print(num_records)\n",
    "240\n",
    ">>> print(list(map(lambda x: x['name'], data)))\n",
    "['Gaucho Parrilla Argentina', 'täkō', 'Noodlehead', \"Bae Bae's Kitchen\", \"DiAnoia's Eatery\", ...]\n",
    "```\n",
    "\n",
    "(Note that there are of course more than 240 businesses in Pittsburgh, but the Yelp API will limit the count to return this amount.  More on this later)."
   ]
  },
  {
   "cell_type": "code",
   "execution_count": 8,
   "metadata": {},
   "outputs": [
    {
     "name": "stdout",
     "output_type": "stream",
     "text": [
      "Running local tests for function yelp_search():\n",
      "  Test 1 PASSED\n",
      "  Test 2 PASSED\n"
     ]
    }
   ],
   "source": [
    "@mugrade.local_tests\n",
    "def yelp_search(query):\n",
    "    \"\"\"\n",
    "    Make an authenticated request to the Yelp API.\n",
    "\n",
    "    Args:\n",
    "        query (string): Search term\n",
    "\n",
    "    Returns:\n",
    "        total (integer): total number of businesses on Yelp corresponding to the query\n",
    "        businesses (list): list of dicts representing each business\n",
    "    \"\"\"\n",
    "    YELP_API_KEY = os.getenv(\"YELP_API_KEY\")\n",
    "    url = f\"https://api.yelp.com/v3/businesses/search?location={query}&limit=50\"\n",
    "    \n",
    "    if not YELP_API_KEY:\n",
    "        raise Exception(\"no api key\")\n",
    "    \n",
    "    headers = {\"accept\": \"application/json\", \"Authorization\": f\"Bearer {YELP_API_KEY}\"}\n",
    "    data = requests.get(url, headers=headers).json()\n",
    " \n",
    "    businesses = data[\"businesses\"]\n",
    "    total = len(businesses)\n",
    "    return total, businesses \n"
   ]
  },
  {
   "cell_type": "markdown",
   "metadata": {},
   "source": [
    "## Parameterization and Pagination\n",
    "\n",
    "And before we can get any reviews on restaurants, we need to actually get the metadata on ALL of the restaurants in Pittsburgh. Notice above that while Yelp told us that there are more than 1000, the response contained far fewer actual `Business` objects. This is due to pagination and is a safeguard against returning __TOO__ much data in a single request (what would happen if there were 100,000 restaurants?) and can be used in conjuction with _rate limiting_ as well as a way to throttle and protect access to Yelp data.\n",
    "\n",
    "If an API has 1,000,000 records, but only returns 10 records per page and limits you to 5 requests per second... how long will it take to acquire ALL of the records contained in the API?\n",
    "\n",
    "One of the ways that APIs are an improvement over plain web scraping is the ability to make __parameterized__ requests. Just like the Python functions you have been writing have arguments (or parameters) that allow you to customize its behavior/actions (an output) without having to rewrite the function entirely, we can parameterize the queries we make to the Yelp API to filter the results it returns.\n",
    "\n",
    "---"
   ]
  },
  {
   "cell_type": "markdown",
   "metadata": {},
   "source": [
    "## Q2: Aquire all of the restaurants in Pittsburgh (on Yelp)\n",
    "\n",
    "Again using the [API documentation](https://www.yelp.com/developers/documentation/v3/business_search) for the `search` endpoint, fill in the following function to retrieve all of the _Restaurants_ (using the categories parameter)** for a given query, within a radius of 1500 meters.  To get the correct results here, **you will need to specificially issue the query with the `categories` parameter set to `restaurants` and the `radius` set to `1500`;**  If you fail to do these, your answers will not match those in our tests.\n",
    "\n",
    "You will need to account for __pagination__ and __[rate limiting](https://www.yelp.com/developers/faq)__ to:\n",
    "\n",
    "1. Retrieve all of the Business objects (# of business objects should equal `total` in the response). Paginate by querying 20 restaurants each request.\n",
    "2. Pause slightly (at least 200 milliseconds) between subsequent requests so as to not overwhelm the API (and get blocked).  \n",
    "\n",
    "As always with API access, make sure you follow all of the [API's policies](https://www.yelp.com/developers/api_terms) and use the API responsibly and respectfully.\n",
    "\n",
    "**DO NOT MAKE TOO MANY REQUESTS TOO QUICKLY OR YOUR KEY MAY BE BLOCKED**\n",
    "\n",
    "Again, you can test your function with an individual neighborhod in Pittsburgh (I recommend Polish Hill). Pittsburgh itself has a lot of restaurants... meaning it will take a lot of time to download them all.\n",
    "\n",
    "```python\n",
    ">>> data = all_restaurants('Polish Hill, Pittsburgh')\n",
    ">>> print(len(data))\n",
    "77\n",
    ">>> print([x['name'] for x in data])\n",
    "['Church Brew Works', \"Salem's Market & Grill\", 'Poulet Bleu', 'Morcilla', ...]\n",
    "```"
   ]
  },
  {
   "cell_type": "code",
   "execution_count": 9,
   "metadata": {},
   "outputs": [
    {
     "name": "stdout",
     "output_type": "stream",
     "text": [
      "Running local tests for function all_restaurants():\n",
      "Error occured: 400 Client Error: Bad Request for url: https://api.yelp.com/v3/businesses/search?location=Polish+Hill%2C+Pittsburgh&limit=20&offset=240&radius=1500&categories=restaurants\n",
      "Total business retreived: 240\n",
      "  Test 1 PASSED\n",
      "  Test 2 PASSED\n"
     ]
    }
   ],
   "source": [
    "@mugrade.local_tests\n",
    "def all_restaurants(query):\n",
    "    \"\"\"\n",
    "    Retrieve ALL the restaurants on Yelp for a given query.\n",
    "\n",
    "    Args:\n",
    "        query (string): Search term\n",
    "\n",
    "    Returns:\n",
    "        results (list): list of dicts representing each business\n",
    "    \"\"\"\n",
    "    YELP_API_KEY = os.getenv(\"YELP_API_KEY\")\n",
    "    url = f\"https://api.yelp.com/v3/businesses/search\"\n",
    "\n",
    "\n",
    "    if not YELP_API_KEY:\n",
    "        raise ValueError(\"missing Yelp api key\")\n",
    "    \n",
    "    headers = {\"accept\": \"application/json\", \"Authorization\": f\"Bearer {YELP_API_KEY}\"}\n",
    "    params = {\"location\": query, \"limit\": 20, \"offset\": 0, \"radius\": 1500, \"categories\": \"restaurants\"}\n",
    "    # delay in seconds\n",
    "    request_delay = 0.2\n",
    "    # in order to get consecutive results\n",
    "    offset_increment = params[\"limit\"]\n",
    "    businesses = []\n",
    "\n",
    "    # offset is restricted to 1000 by API despite that we can get only 240 businesses \n",
    "    while params[\"offset\"] <= 1000:\n",
    "        try:\n",
    "            response = requests.get(url, headers=headers, params=params)\n",
    "            response.raise_for_status()\n",
    "            data = response.json()\n",
    "            businesses += data[\"businesses\"]\n",
    "            params[\"offset\"] += offset_increment  \n",
    "            time.sleep(request_delay)\n",
    "        except requests.RequestException as error:\n",
    "            print(f\"Error occured: {error}\")\n",
    "            break\n",
    "        \n",
    "    print(f\"Total business retreived: {len(businesses)}\")\n",
    "    return businesses"
   ]
  },
  {
   "cell_type": "markdown",
   "metadata": {},
   "source": [
    "---\n",
    "\n",
    "Now that we have the metadata on all of the restaurants in Pittsburgh (or at least the ones listed on Yelp), we can retrieve the reviews and ratings. The Yelp API gives us aggregate information on ratings but it doesn't give us the review text or individual users' ratings for a restaurant. For that we need to turn to web scraping, but to find out what pages to scrape we first need to parse our JSON from the API to extract the URLs of the restaurants.\n",
    "\n",
    "In general, it is a best practice to seperate the act of __downloading__ data and __parsing__ data. This ensures that your data processing pipeline is modular and extensible (and autogradable). This decoupling also solves the problem of expensive downloading but cheap parsing (in terms of computation and time)."
   ]
  },
  {
   "cell_type": "markdown",
   "metadata": {},
   "source": [
    "---"
   ]
  },
  {
   "cell_type": "markdown",
   "metadata": {},
   "source": [
    "## Working with Web Pages (and HTML)\n",
    "\n",
    "Think of APIs as similar to accessing a application's database itself (something you can interactively query and receive structured data back). But the results are usually in a somewhat raw form with no formatting or visual representation (like the results from a database query). This is a benefit _AND_ a drawback depending on the end use case. For data science and _programatic_ analysis this raw form is quite ideal, but for an end user requesting information from a _graphical interface_ (like a web browser) this is very far from ideal since it takes some cognitive overhead to interpret the raw information. And vice versa, if we have HTML it is quite easy for a human to visually interpret it, but to try to perform some type of programmatic analysis we first need to parse the HTML into a more structured form.\n",
    "\n",
    "As a general rule of thumb, if the data you need can be accessed or retrieved in a structured form (either from a bulk download or API) prefer that first. But if the data you want (and need) is not as in our case we need to resort to alternative (messier) means.\n",
    "\n",
    "Going back to the \"hello world\" example of question 1 with the NYT, we will do something similar to retrieve the HTML of the Yelp site itself (rather than going through the API) programmatically as text. \n",
    "\n",
    "---"
   ]
  },
  {
   "cell_type": "markdown",
   "metadata": {},
   "source": [
    "## Q3: Parse a Yelp restaurant Page\n",
    "\n",
    "Using `BeautifulSoup`, parse the HTML of a single Yelp restaurant page to extract the reviews in a structured form as well as the total number of pages.  A call to this function could look like the following\n",
    "\n",
    "```python\n",
    "reviews, num_pages = parse_yelp_page(\"https://www.yelp.com/biz/the-porch-at-schenley-pittsburgh\")\n",
    "```\n",
    "\n",
    "You will want to fill in the following function stubs to parse a single page of reviews and return:\n",
    "* the reviews as a structured Python dictionary\n",
    "* the total number of pages of reviews.\n",
    "\n",
    "For each review be sure to structure your Python dictionary as follows (to be graded correctly). The order of the keys doesn't matter, only the keys and the data type of the values:\n",
    "\n",
    "```python\n",
    "{\n",
    "    'author': 'Aaron W.' # str\n",
    "    'rating': 4          # int\n",
    "    'date': '2019-01-03' # str, yyyy-mm-dd\n",
    "    'description': \"Wonderful!\" # str\n",
    "}\n",
    "```\n",
    "\n",
    "Return reviews in the order that they are present on the page.  There can be issues with Beautiful Soup using various parsers, for maximum conpatibility (and fewest errors) initialize the library with the default (and Python standard library parser): `BeautifulSoup(markup, \"html.parser\")`. You may notice that the HTML is automatically generated. Yelp uses a modern web application technology called [React](https://reactjs.org/), which generates the markup from Javascript code. This is a common hazard of scraping data from HTML, because the resulting code is not actually that readable.\n",
    "\n",
    "#### Hints:\n",
    "1. As a general strategy, you should try using the Chrome browser (others probably have similar features), and the \"View -> Developer -> Inspect Elements\" command.  This lets you mouse over individual elements in the text and find the corresponding html entry.\n",
    "\n",
    "2. Use the `.find()` and `.find_all()` commands in BeautifulSoup liberally.  In addition to finding exact tags, e.g. `element.find(\"tag\")` you can specify search terms in addition, including with regular exprssions.  For example, to find all sub-elements that have  `class = \" raw__<something>\"` you can use `element.find(\"tag\", class_=re.compile(r\"raw\"))`.\n",
    "\n",
    "3. You can also search the element with a regular expression using `element.find(\"tag\", string=re.compile(r\"<regex>\")`\n",
    "\n",
    "4. You can get the text content of a tag, converted to text (and preserving newlines), using `element.get_text(\"\\n\")`\n",
    "\n",
    "#### Static downloads\n",
    "\n",
    "Finally, we have learned through extensive experience that requiring a class to parse live content pages over a 2 week assignment nearly _always_ will lead to a situation where people add and delete reviews during the assignment period, causing the grader tests to go out of date.  There are also sometimes issues in actually getting the HTML properly from headless nodes like the ones that run on Colab.  Thus, while you would normally, as the first line in your function, issue a command like the following:\n",
    "```python\n",
    "html = retrieve_html(url)[1]\n",
    "```\n",
    "we are also providing a `parse_yelp_page_dict` dictionary along with the assigment that has all the necessary pages (correct as of the assignment release).  So instead of the line above you could call:\n",
    "\n",
    "```python\n",
    "html = parse_yelp_page_dict[url]\n",
    "```\n",
    "These are literally just downloads of the Yelp page HTML as of the time the assignment is released.  While it will be nice to test your function using the real Yelp page, to see it working in action, you probably should do your final testing and submission using these pre-downloaded files.  But note that regardless of whether you use these saved files or the live web version, you will definitely need to use a web browser on the real system to inspect the elements of the live page.  Attempting to manually parse the HTML as it's is downloaded to these files would be extremely difficult."
   ]
  },
  {
   "cell_type": "code",
   "execution_count": 10,
   "metadata": {},
   "outputs": [],
   "source": [
    "import pickle\n",
    "import gzip\n",
    "\n",
    "with open(\"THE PORCH AT SCHENLEY.html\", \"r\", encoding=\"utf-8\") as file:\n",
    "    html_content = file.read()\n",
    "\n",
    "with gzip.open(\"parse_yelp_page_dict.pkl.gz\", \"wb\") as binary_dump:\n",
    "    pickle.dump(html_content, binary_dump)"
   ]
  },
  {
   "cell_type": "code",
   "execution_count": 11,
   "metadata": {},
   "outputs": [],
   "source": [
    "from playwright.async_api import async_playwright\n",
    "\n",
    "async def fetch_html(url, request_delay=0.5):\n",
    "    \"\"\"\n",
    "    Fetches html of single review page. Has standard request delay of 0.5 second. \n",
    "    Needs to be async in order to work with Jupyter.\n",
    "\n",
    "    Args:\n",
    "        url (string): URL string corresponding to a Yelp review page\n",
    "        request_delay: time to wait before doing a request\n",
    "\n",
    "    Returns:\n",
    "        string: page html content\n",
    "    \"\"\"\n",
    "    async with async_playwright() as p:\n",
    "        # browser = await p.chromium.launch(headless=True)\n",
    "        with open('session_data.json', 'r') as file:\n",
    "            session_data = json.load(file)\n",
    "\n",
    "\n",
    "        browser = await p.chromium.launch(headless=True, args=[\n",
    "            \"--disable-blink-features=AutomationControlled\",\n",
    "            \"--disable-dev-shm-usage\",\n",
    "            \"--no-sandbox\",\n",
    "            \"--disable-gpu\",\n",
    "            \"--disable-features=site-per-process\"\n",
    "        ])\n",
    "        context = await browser.new_context()\n",
    "\n",
    "        # await context.add_cookies(session_data[\"cookies\"])\n",
    "\n",
    "        page = await context.new_page()\n",
    "        for key, value in session_data[\"localStorage\"].items():\n",
    "            await context.add_init_script(f\"window.localStorage.setItem('{key}', '{value}')\")        \n",
    "\n",
    "        for key, value in session_data[\"sessionStorage\"].items():\n",
    "            await context.add_init_script(f\"window.sessionStorage.setItem('{key}', '{value}')\")        \n",
    "    \n",
    "        \n",
    "        time.sleep(request_delay)\n",
    "\n",
    "\n",
    "        await page.goto(url)\n",
    "        page_html = await page.content()\n",
    "        sanitize_filename = lambda c: c if str.isalpha(c) else '_'\n",
    "\n",
    "        with open(f\"html/{sanitize_filename(url)}\", \"w\", encoding=\"utf-8\") as file:\n",
    "            file.write(page_html)\n",
    "        await browser.close()\n",
    "        return page_html"
   ]
  },
  {
   "cell_type": "code",
   "execution_count": null,
   "metadata": {},
   "outputs": [],
   "source": [
    "async def parse_yelp_page(url):\n",
    "    \"\"\"\n",
    "    Parse the reviews on a single page of a restaurant.\n",
    "    \n",
    "    Args:\n",
    "        url (string): URL string corresponding to a Yelp restaurant\n",
    "\n",
    "    Returns:  \n",
    "        tuple(list, int): a tuple of two elements\n",
    "            first element: list of dictionaries corresponding to the extracted review information\n",
    "            second element: Number of pages total\n",
    "    \"\"\"\n",
    "\n",
    "    headers = {\"accept\": \"application/json\", \"Authorization\": f\"Bearer {YELP_API_KEY}\"}\n",
    "    try:\n",
    "        response = requests.get(url, headers=headers)\n",
    "        response.raise_for_status()\n",
    "        html = response.json()  \n",
    "    except requests.RequestException as error:\n",
    "        print(f\"Error occured: {error}\")\n",
    "\n",
    "    # html = await fetch_html(url)\n",
    "    html_soup = BeautifulSoup(html)\n",
    "    reviews_number = int(str(html_soup.select(\"#reviews > section > div.y-css-mhg9c5 > ul > li:nth-child(n)\"\n",
    "                               \"> div > div.y-css-9vtc3g > div > div.y-css-8x4us > div > div\"\n",
    "                               \"> div.arrange-unit__09f24__rqHTg.arrange-unit-fill__09f24__CUubG.y-css-mhg9c5\"\n",
    "                               \"> div.user-passport-info.y-css-mhg9c5 > span > a\")).split()[0])\n",
    "    print(\"Reviews:\", reviews_number)\n",
    "    pages = math.ceil(reviews_number // 10)\n",
    "    reviews_soup = html_soup.select(\"#reviews > section > div.y-css-mhg9c5\")\n",
    "    reviews_info = []\n",
    "    for review in reviews_soup:\n",
    "        print(review)\n",
    "        author = html_soup.select(\"#reviews > section > div.y-css-mhg9c5 > ul > li:nth-child(1)\"\n",
    "                                 \"> div > div.y-css-9vtc3g > div > div.y-css-8x4us > div > div\"\n",
    "                                 \"> div.arrange-unit__09f24__rqHTg.arrange-unit-fill__09f24__CUubG.y-css-mhg9c5\"\n",
    "                                 \"> div.user-passport-info.y-css-mhg9c5 > span > a\")\n",
    "        # same for those\n",
    "        rating = 0\n",
    "        date = \"\"\n",
    "        description = \"\"\n",
    "        reviews_info.append({\"author\": author,\n",
    "                             \"rating\": rating,\n",
    "                             \"date\": date,\n",
    "                             \"description\": description})\n",
    "    \n",
    "    return reviews_info, pages  "
   ]
  },
  {
   "cell_type": "code",
   "execution_count": 24,
   "metadata": {},
   "outputs": [
    {
     "name": "stdout",
     "output_type": "stream",
     "text": [
      "Error occured: 403 Client Error: Forbidden for url: https://www.yelp.com/biz/red-o-cantina-santa-monica\n"
     ]
    },
    {
     "ename": "UnboundLocalError",
     "evalue": "cannot access local variable 'html' where it is not associated with a value",
     "output_type": "error",
     "traceback": [
      "\u001b[31m---------------------------------------------------------------------------\u001b[39m",
      "\u001b[31mUnboundLocalError\u001b[39m                         Traceback (most recent call last)",
      "\u001b[36mCell\u001b[39m\u001b[36m \u001b[39m\u001b[32mIn[24]\u001b[39m\u001b[32m, line 3\u001b[39m\n\u001b[32m      1\u001b[39m \u001b[38;5;28;01mimport\u001b[39;00m\u001b[38;5;250m \u001b[39m\u001b[34;01masyncio\u001b[39;00m\n\u001b[32m      2\u001b[39m \u001b[38;5;66;03m# result = await parse_yelp_page(\"https://www.yelp.com/biz/holbox-los-angeles-2\")\u001b[39;00m\n\u001b[32m----> \u001b[39m\u001b[32m3\u001b[39m result = \u001b[38;5;28;01mawait\u001b[39;00m parse_yelp_page(\u001b[33m\"\u001b[39m\u001b[33mhttps://www.yelp.com/biz/red-o-cantina-santa-monica\u001b[39m\u001b[33m\"\u001b[39m)\n\u001b[32m      4\u001b[39m \u001b[38;5;28mprint\u001b[39m(result)\n",
      "\u001b[36mCell\u001b[39m\u001b[36m \u001b[39m\u001b[32mIn[12]\u001b[39m\u001b[32m, line 23\u001b[39m, in \u001b[36mparse_yelp_page\u001b[39m\u001b[34m(url)\u001b[39m\n\u001b[32m     20\u001b[39m     \u001b[38;5;28mprint\u001b[39m(\u001b[33mf\u001b[39m\u001b[33m\"\u001b[39m\u001b[33mError occured: \u001b[39m\u001b[38;5;132;01m{\u001b[39;00merror\u001b[38;5;132;01m}\u001b[39;00m\u001b[33m\"\u001b[39m)\n\u001b[32m     22\u001b[39m \u001b[38;5;66;03m# html = await fetch_html(url)\u001b[39;00m\n\u001b[32m---> \u001b[39m\u001b[32m23\u001b[39m html_soup = BeautifulSoup(\u001b[43mhtml\u001b[49m)\n\u001b[32m     24\u001b[39m reviews_number = \u001b[38;5;28mint\u001b[39m(\u001b[38;5;28mstr\u001b[39m(html_soup.select(\u001b[33m\"\u001b[39m\u001b[33m#reviews > section > div.y-css-mhg9c5 > ul > li:nth-child(n)\u001b[39m\u001b[33m\"\u001b[39m\n\u001b[32m     25\u001b[39m                            \u001b[33m\"\u001b[39m\u001b[33m> div > div.y-css-9vtc3g > div > div.y-css-8x4us > div > div\u001b[39m\u001b[33m\"\u001b[39m\n\u001b[32m     26\u001b[39m                            \u001b[33m\"\u001b[39m\u001b[33m> div.arrange-unit__09f24__rqHTg.arrange-unit-fill__09f24__CUubG.y-css-mhg9c5\u001b[39m\u001b[33m\"\u001b[39m\n\u001b[32m     27\u001b[39m                            \u001b[33m\"\u001b[39m\u001b[33m> div.user-passport-info.y-css-mhg9c5 > span > a\u001b[39m\u001b[33m\"\u001b[39m)).split()[\u001b[32m0\u001b[39m])\n\u001b[32m     28\u001b[39m \u001b[38;5;28mprint\u001b[39m(\u001b[33m\"\u001b[39m\u001b[33mReviews:\u001b[39m\u001b[33m\"\u001b[39m, reviews_number)\n",
      "\u001b[31mUnboundLocalError\u001b[39m: cannot access local variable 'html' where it is not associated with a value"
     ]
    }
   ],
   "source": [
    "import asyncio\n",
    "# result = await parse_yelp_page(\"https://www.yelp.com/biz/holbox-los-angeles-2\")\n",
    "result = await parse_yelp_page(\"https://www.yelp.com/biz/red-o-cantina-santa-monica\")\n",
    "print(result)\n"
   ]
  },
  {
   "cell_type": "markdown",
   "metadata": {},
   "source": [
    "---\n",
    "\n",
    "## Q 3.5: Extract all of the Yelp reviews for a Single Restaurant\n",
    "\n",
    "So now that we have parsed a single page, and figured out a method to go from one page to the next we are ready to combine these two techniques and actually crawl through web pages! \n",
    "\n",
    "Using `requests`, programmatically retrieve __ALL__ of the reviews for a __single__ business (provided as a parameter). Just like the API was paginated, the HTML paginates its reviews (it would be a very long web page to show 300 reviews on a single page) and to get all the reviews you will need to parse and traverse the HTML. As input your function will receive a URL corresponding to a Yelp business. As output return a list of dictionaries (structured the same as question 3 containing the relevant information from the reviews.\n",
    "\n",
    "Return reviews in the order that they are present on the page.\n",
    "\n",
    "You will need to get the number of pages on the first request and generate the URL for subsequent pages automatically. Use the Yelp website to see how the URL changes for subsequent pages."
   ]
  },
  {
   "cell_type": "code",
   "execution_count": null,
   "metadata": {},
   "outputs": [
    {
     "name": "stdout",
     "output_type": "stream",
     "text": [
      "Running local tests for function extract_yelp_reviews():\n"
     ]
    },
    {
     "ename": "NameError",
     "evalue": "name 'reviews_number' is not defined",
     "output_type": "error",
     "traceback": [
      "\u001b[31m---------------------------------------------------------------------------\u001b[39m",
      "\u001b[31mNameError\u001b[39m                                 Traceback (most recent call last)",
      "\u001b[36mCell\u001b[39m\u001b[36m \u001b[39m\u001b[32mIn[9]\u001b[39m\u001b[32m, line 1\u001b[39m\n\u001b[32m----> \u001b[39m\u001b[32m1\u001b[39m \u001b[38;5;129;43m@mugrade\u001b[39;49m\u001b[43m.\u001b[49m\u001b[43mlocal_tests\u001b[49m\n\u001b[32m      2\u001b[39m \u001b[38;5;28;43;01mdef\u001b[39;49;00m\u001b[38;5;250;43m \u001b[39;49m\u001b[34;43mextract_yelp_reviews\u001b[39;49m\u001b[43m(\u001b[49m\u001b[43murl\u001b[49m\u001b[43m)\u001b[49m\u001b[43m:\u001b[49m\n\u001b[32m      3\u001b[39m \u001b[38;5;250;43m    \u001b[39;49m\u001b[33;43;03m\"\"\"\u001b[39;49;00m\n\u001b[32m      4\u001b[39m \u001b[33;43;03m    Retrieve ALL of the reviews for a single business on Yelp.\u001b[39;49;00m\n\u001b[32m      5\u001b[39m \n\u001b[32m   (...)\u001b[39m\u001b[32m     10\u001b[39m \u001b[33;43;03m        reviews (list): list of dictionaries containing extracted review information\u001b[39;49;00m\n\u001b[32m     11\u001b[39m \u001b[33;43;03m    \"\"\"\u001b[39;49;00m\u001b[43m  \u001b[49m\u001b[38;5;66;43;03m# for given url:\u001b[39;49;00m\n\u001b[32m     12\u001b[39m \u001b[43m    \u001b[49m\u001b[38;5;66;43;03m#   1) fetch first html page of reviews  with ?start=0 \u001b[39;49;00m\n\u001b[32m     13\u001b[39m \u001b[43m    \u001b[49m\u001b[38;5;66;43;03m#   2) create html_soup class\u001b[39;49;00m\n\u001b[32m     14\u001b[39m \u001b[43m    \u001b[49m\u001b[38;5;66;43;03m#   3) parse total reviews number\u001b[39;49;00m\n\u001b[32m   (...)\u001b[39m\u001b[32m     17\u001b[39m \n\u001b[32m     18\u001b[39m \u001b[43m    \u001b[49m\u001b[38;5;66;43;03m# list extend\u001b[39;49;00m\n",
      "\u001b[36mFile \u001b[39m\u001b[32m~/code/datascience/datascience/venv/lib/python3.12/site-packages/mugrade/mugrade.py:167\u001b[39m, in \u001b[36mlocal_tests\u001b[39m\u001b[34m(func)\u001b[39m\n\u001b[32m    165\u001b[39m \u001b[38;5;28mprint\u001b[39m(\u001b[33m\"\u001b[39m\u001b[33mRunning local tests for function \u001b[39m\u001b[38;5;132;01m{}\u001b[39;00m\u001b[33m():\u001b[39m\u001b[33m\"\u001b[39m.format(func.\u001b[34m__name__\u001b[39m))\n\u001b[32m    166\u001b[39m test.test_count = \u001b[32m1\u001b[39m    \n\u001b[32m--> \u001b[39m\u001b[32m167\u001b[39m \u001b[43mtest_func\u001b[49m\u001b[43m(\u001b[49m\u001b[43m)\u001b[49m\n\u001b[32m    168\u001b[39m \u001b[38;5;28;01mreturn\u001b[39;00m func\n",
      "\u001b[36mFile \u001b[39m\u001b[32m~/code/datascience/datascience/hw1_scraper/test_hw1_scraper.py:60\u001b[39m, in \u001b[36mtest_extract_yelp_reviews\u001b[39m\u001b[34m()\u001b[39m\n\u001b[32m     59\u001b[39m \u001b[38;5;28;01mdef\u001b[39;00m\u001b[38;5;250m \u001b[39m\u001b[34mtest_extract_yelp_reviews\u001b[39m():\n\u001b[32m---> \u001b[39m\u001b[32m60\u001b[39m     reviews = \u001b[43mextract_yelp_reviews\u001b[49m\u001b[43m(\u001b[49m\u001b[33;43m\"\u001b[39;49m\u001b[33;43mhttps://www.yelp.com/biz/larry-and-carols-pizza-pittsburgh\u001b[39;49m\u001b[33;43m\"\u001b[39;49m\u001b[43m)\u001b[49m\n\u001b[32m     61\u001b[39m     \u001b[38;5;28;01mwith\u001b[39;00m mugrade.test: \u001b[38;5;28;01massert\u001b[39;00m \u001b[38;5;28mlen\u001b[39m(reviews) == \u001b[32m65\u001b[39m\n\u001b[32m     62\u001b[39m     \u001b[38;5;28;01mwith\u001b[39;00m mugrade.test: \u001b[38;5;28;01massert\u001b[39;00m [r \u001b[38;5;28;01mfor\u001b[39;00m r \u001b[38;5;129;01min\u001b[39;00m reviews \u001b[38;5;28;01mif\u001b[39;00m r[\u001b[33m\"\u001b[39m\u001b[33mauthor\u001b[39m\u001b[33m\"\u001b[39m] == \u001b[33m\"\u001b[39m\u001b[33mJoshua R.\u001b[39m\u001b[33m\"\u001b[39m][\u001b[32m0\u001b[39m] == {\u001b[33m'\u001b[39m\u001b[33mauthor\u001b[39m\u001b[33m'\u001b[39m: \u001b[33m'\u001b[39m\u001b[33mJoshua R.\u001b[39m\u001b[33m'\u001b[39m,\n\u001b[32m     63\u001b[39m   \u001b[33m'\u001b[39m\u001b[33mrating\u001b[39m\u001b[33m'\u001b[39m: \u001b[32m5\u001b[39m,\n\u001b[32m     64\u001b[39m   \u001b[33m'\u001b[39m\u001b[33mdate\u001b[39m\u001b[33m'\u001b[39m: \u001b[33m'\u001b[39m\u001b[33m2016-05-21\u001b[39m\u001b[33m'\u001b[39m,\n\u001b[32m     65\u001b[39m   \u001b[33m'\u001b[39m\u001b[33mdescription\u001b[39m\u001b[33m'\u001b[39m: \u001b[33m'\u001b[39m\u001b[33mThe manager Kevin is so great and loyal to his regulars. The place is great all around but he makes sure it runs well. Would totally recommend 10/10.\u001b[39m\u001b[33m'\u001b[39m}\n",
      "\u001b[36mCell\u001b[39m\u001b[36m \u001b[39m\u001b[32mIn[9]\u001b[39m\u001b[32m, line 19\u001b[39m, in \u001b[36mextract_yelp_reviews\u001b[39m\u001b[34m(url)\u001b[39m\n\u001b[32m      3\u001b[39m \u001b[38;5;250m\u001b[39m\u001b[33;03m\"\"\"\u001b[39;00m\n\u001b[32m      4\u001b[39m \u001b[33;03mRetrieve ALL of the reviews for a single business on Yelp.\u001b[39;00m\n\u001b[32m      5\u001b[39m \n\u001b[32m   (...)\u001b[39m\u001b[32m     10\u001b[39m \u001b[33;03m    reviews (list): list of dictionaries containing extracted review information\u001b[39;00m\n\u001b[32m     11\u001b[39m \u001b[33;03m\"\"\"\u001b[39;00m  \u001b[38;5;66;03m# for given url:\u001b[39;00m\n\u001b[32m     12\u001b[39m \u001b[38;5;66;03m#   1) fetch first html page of reviews  with ?start=0 \u001b[39;00m\n\u001b[32m     13\u001b[39m \u001b[38;5;66;03m#   2) create html_soup class\u001b[39;00m\n\u001b[32m     14\u001b[39m \u001b[38;5;66;03m#   3) parse total reviews number\u001b[39;00m\n\u001b[32m   (...)\u001b[39m\u001b[32m     17\u001b[39m \n\u001b[32m     18\u001b[39m \u001b[38;5;66;03m# list extend\u001b[39;00m\n\u001b[32m---> \u001b[39m\u001b[32m19\u001b[39m pages_number = math.ceil(\u001b[43mreviews_number\u001b[49m / \u001b[32m10\u001b[39m)\n\u001b[32m     20\u001b[39m start_parameter = \u001b[32m10\u001b[39m \u001b[38;5;66;03m# up to pages_number * 10\u001b[39;00m\n\u001b[32m     21\u001b[39m url_next = \u001b[33mf\u001b[39m\u001b[33m\"\u001b[39m\u001b[38;5;132;01m{\u001b[39;00murl\u001b[38;5;132;01m}\u001b[39;00m\u001b[33m?start=\u001b[39m\u001b[38;5;132;01m{\u001b[39;00mstart_parameter\u001b[38;5;132;01m}\u001b[39;00m\u001b[33m\"\u001b[39m\n",
      "\u001b[31mNameError\u001b[39m: name 'reviews_number' is not defined"
     ]
    }
   ],
   "source": [
    "@mugrade.local_tests\n",
    "async def extract_yelp_reviews(url, request_delay=0.5):\n",
    "    \"\"\"\n",
    "    Retrieve ALL of the reviews for a single business on Yelp.\n",
    "\n",
    "    Parameters:\n",
    "        url (string): Yelp URL corresponding to the business of interest.\n",
    "\n",
    "    Returns:\n",
    "        reviews (list): list of dictionaries containing extracted review information\n",
    "    \"\"\" \n",
    "    reviews, pages_number = await parse_yelp_page(url) \n",
    "    for iteration in range(2, pages_number+1):\n",
    "        url_next = f\"{url}?start={iteration}\"\n",
    "        try:\n",
    "            review, _ = await parse_yelp_page(url_next)\n",
    "            reviews.append(review)\n",
    "            time.sleep(request_delay)\n",
    "        except requests.RequestException as error:\n",
    "            print(f\"Error occured: {error}\")\n",
    "            break\n",
    "    print(f\"Total reviews retreived: {len(reviews)}\")\n",
    "    return reviews\n"
   ]
  }
 ],
 "metadata": {
  "anaconda-cloud": {},
  "kernelspec": {
   "display_name": "venv",
   "language": "python",
   "name": "python3"
  },
  "language_info": {
   "codemirror_mode": {
    "name": "ipython",
    "version": 3
   },
   "file_extension": ".py",
   "mimetype": "text/x-python",
   "name": "python",
   "nbconvert_exporter": "python",
   "pygments_lexer": "ipython3",
   "version": "3.12.3"
  }
 },
 "nbformat": 4,
 "nbformat_minor": 1
}
