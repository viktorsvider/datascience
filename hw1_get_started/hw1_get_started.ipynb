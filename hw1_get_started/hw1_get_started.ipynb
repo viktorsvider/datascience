{
 "cells": [
  {
   "cell_type": "markdown",
   "metadata": {},
   "source": [
    "# Geting Started\n",
    "\n",
    "This assignment is intended as a quick warmup to prepare with the process for testing and submitting your solution code, via the `mugrade` interface.  As discussed in class, the process for submitting your code is done entirely within the codebook, to avoid any need for downloading/submitting notebooks, etc.  If the code runs properly in your notebook, you should be able to pass both the local and remote tests.\n",
    "\n",
    "To get used to the submission process, fill in the following function signatures according to their specifications. Upon finishing this section, submit your notebook to Diderot and you can view your grade. We are not looking for complicated solutions.\n",
    "\n",
    "We will duplicate the function prototypes a few times here for this very first question, just to provide a rundown of the process, but in the later section, you can just edit a single code cell for both local testing and submission."
   ]
  },
  {
   "cell_type": "markdown",
   "metadata": {},
   "source": [
    "## Q1: Using the autograder\n",
    "\n",
    "To start, consider filling out the following function according to the instructions provided in its docstring (this is the documentation that occurs right after the function definition)."
   ]
  },
  {
   "cell_type": "code",
   "execution_count": 24,
   "metadata": {},
   "outputs": [],
   "source": [
    "def rotate_list(l, n):\n",
    "    \"\"\" Rotate the list l by n, returning a new list that starts with the \n",
    "    nth element, through to the end of the list, followed by the first element up\n",
    "    through the (n-1)th (note that n is specified using zero-indexing)\"\"\"\n",
    "    pass"
   ]
  },
  {
   "cell_type": "markdown",
   "metadata": {},
   "source": [
    "Since we went over this question in class, we'll even provide you with the answer here.  To solve this question, you would fill out the function above with something like the following."
   ]
  },
  {
   "cell_type": "code",
   "execution_count": 25,
   "metadata": {},
   "outputs": [],
   "source": [
    "def rotate_list(l, n):\n",
    "    \"\"\" Rotate the list l by n, returning a new list that starts with the \n",
    "    nth element, through to the end of the list, followed by the first element up\n",
    "    through the (n-1)th (note that n is specified using zero-indexing)\"\"\"\n",
    "    return l[n:] + l[:n]"
   ]
  },
  {
   "cell_type": "markdown",
   "metadata": {},
   "source": [
    "### Running local tests\n",
    "\n",
    "Now you're ready to run the local tests cases we have provided against your implementation.  To be clear **you should test your function yourself (i.e, run on \"simple\" inputs) before you even run the local tests**.  The local test cases themselves are harder to parse than just calling the function manually, so you shouldn't rely on them for debuggnin.\n",
    "\n",
    "To do this, you will use the `mugrade` library along with some function dectorators that it defines.  To install the `mugrade` library, you can use the following command (runnable in the notebook, but you can also run it in a terminal)."
   ]
  },
  {
   "cell_type": "code",
   "execution_count": 26,
   "metadata": {},
   "outputs": [],
   "source": [
    "#!pip install --upgrade --no-deps --force-reinstall git+https://github.com/locuslab/mugrade.git"
   ]
  },
  {
   "cell_type": "markdown",
   "metadata": {},
   "source": [
    "With the library install, you can use the following syntax to test you function(again, when really implementing this, you should just add the dectorators to your solution above, but for now we'll create a separate cell)."
   ]
  },
  {
   "cell_type": "code",
   "execution_count": 32,
   "metadata": {},
   "outputs": [
    {
     "name": "stdout",
     "output_type": "stream",
     "text": [
      "Running local tests for function rotate_list():\n",
      "  Test 1 PASSED\n",
      "  Test 2 PASSED\n",
      "  Test 3 PASSED\n",
      "  Test 4 PASSED\n",
      "  Test 5 PASSED\n"
     ]
    }
   ],
   "source": [
    "import mugrade\n",
    "\n",
    "@mugrade.local_tests\n",
    "def rotate_list(l, n):\n",
    "    \"\"\" Rotate the list l by n, returning a new list that starts with the \n",
    "    nth element, through to the end of the list, followed by the first element up\n",
    "    through the (n-1)th (note that n is specified using zero-indexing)\"\"\"\n",
    "    return l[n:] + l[:n]"
   ]
  },
  {
   "cell_type": "markdown",
   "metadata": {},
   "source": [
    "To ses how `mugrade` works, look at the `test_hw1_get_started.py` file, which is included with each assignment and which contains test cases for the assignment.  You can take a look at the file to get a sense of the rough process.  Specifically, the `test_rotate_list()` function contains the following code\n",
    "\n",
    "```python\n",
    "def test_rotate_list():\n",
    "    with mugrade.test: assert rotate_list([1,2,3,4], 0) == [1,2,3,4]\n",
    "    with mugrade.test: assert len(rotate_list([1,2,3,4], 1)) == 4\n",
    "    with mugrade.test: assert rotate_list([1,2,3,4], 1) == [2,3,4,1]\n",
    "    with mugrade.test: assert rotate_list([1,2,3,4], 2) == [3,4,1,2]\n",
    "    with mugrade.test: assert rotate_list([1,2,3,4], 3) == [4,1,2,3]\n",
    "```\n",
    "\n",
    "If you are familiar with unit tests like those in pytest, this function should look pretty familiar to you.  It basically consists of a number of `assert` statements, which a correct solution should pass.  In other words, according to the third line of this function, the result of calling:\n",
    "\n",
    "```python\n",
    "rotate_list([1,2,3,4], 1)\n",
    "```\n",
    "\n",
    "should be the list:\n",
    "\n",
    "```python\n",
    "[2,3,4,1]\n",
    "```\n",
    "\n",
    "If your implementation results this result, it will pass, otherwise it will fail the test.  The only additional element here from \"standard\" unit tests is the `with mugrade.test:` portion, which we just include so that mugrade properly counts the tests and continues to run even if one of the previous tests fails."
   ]
  },
  {
   "cell_type": "markdown",
   "metadata": {},
   "source": [
    "If you run tests on an _incorrect_ implementation, the tests will fail and give you feedback about which assertion failed."
   ]
  },
  {
   "cell_type": "code",
   "execution_count": 28,
   "metadata": {},
   "outputs": [
    {
     "name": "stdout",
     "output_type": "stream",
     "text": [
      "Running local tests for function rotate_list():\n",
      "  Test 1 PASSED\n",
      "  Test 2 FAILED  assert len(rotate_list([1,2,3,4], 1)) == 4\n",
      "  Test 3 FAILED  assert rotate_list([1,2,3,4], 1) == [2,3,4,1]\n",
      "  Test 4 FAILED  assert rotate_list([1,2,3,4], 2) == [3,4,1,2]\n",
      "  Test 5 FAILED  assert rotate_list([1,2,3,4], 3) == [4,1,2,3]\n"
     ]
    }
   ],
   "source": [
    "@mugrade.local_tests\n",
    "def rotate_list(l, n):\n",
    "    \"\"\" Rotate the list l by n, returning a new list that starts with the \n",
    "    nth element, through to the end of the list, followed by the first element up\n",
    "    through the (n-1)th (note that n is specified using zero-indexing)\"\"\"\n",
    "    return l[n:]"
   ]
  },
  {
   "cell_type": "markdown",
   "metadata": {},
   "source": [
    "If you want to debug your function more fully, you can now observe the output of the function itself on this input, and inspect the output as you see fit.  The following two functions, for instance, correspond exactly to the second and third failed test cases."
   ]
  },
  {
   "cell_type": "code",
   "execution_count": 33,
   "metadata": {},
   "outputs": [
    {
     "name": "stdout",
     "output_type": "stream",
     "text": [
      "4\n",
      "[2, 3, 4, 1]\n"
     ]
    }
   ],
   "source": [
    "print(len(rotate_list([1, 2, 3, 4], 1)))\n",
    "print(rotate_list([1, 2, 3, 4], 1))"
   ]
  },
  {
   "cell_type": "markdown",
   "metadata": {},
   "source": [
    "### Submitting to the grading site\n",
    "\n",
    "When you are satisfied that your function is correct, and is passing the local tests (and it is highly recommended that you do it **only** at this point), you can then submit your solutions to the `mugrade` system.  To do so, you will need to register an account on https://mugrade.datasciencecourse.org, **using your andrew email**.  Note that the system will let you sign up under any email, but if you register using a different one, we won't be able to tabulate your scores for your grade.\n",
    "\n",
    "After you have registered, you will see a \"Grader Key\" on the left toolbar.  Click that link and then copy the key.  You can then submit your assignment by changing the `mugrade.local_tests` dectorator to be `mugrade.submit_tests(\"<your grader key>\")`.  You can do this with the code below."
   ]
  },
  {
   "cell_type": "code",
   "execution_count": 36,
   "metadata": {},
   "outputs": [
    {
     "ename": "KeyError",
     "evalue": "'submission_key'",
     "output_type": "error",
     "traceback": [
      "\u001b[31m---------------------------------------------------------------------------\u001b[39m",
      "\u001b[31mKeyError\u001b[39m                                  Traceback (most recent call last)",
      "\u001b[36mCell\u001b[39m\u001b[36m \u001b[39m\u001b[32mIn[36]\u001b[39m\u001b[32m, line 1\u001b[39m\n\u001b[32m----> \u001b[39m\u001b[32m1\u001b[39m \u001b[38;5;129;43m@mugrade\u001b[39;49m\u001b[43m.\u001b[49m\u001b[43msubmit_tests\u001b[49m\u001b[43m(\u001b[49m\u001b[33;43m\"\u001b[39;49m\u001b[33;43mYOUR GRADER KEY HERE\u001b[39;49m\u001b[33;43m\"\u001b[39;49m\u001b[43m)\u001b[49m\n\u001b[32m      2\u001b[39m \u001b[38;5;28;43;01mdef\u001b[39;49;00m\u001b[38;5;250;43m \u001b[39;49m\u001b[34;43mrotate_list\u001b[39;49m\u001b[43m(\u001b[49m\u001b[43ml\u001b[49m\u001b[43m,\u001b[49m\u001b[43m \u001b[49m\u001b[43mn\u001b[49m\u001b[43m)\u001b[49m\u001b[43m:\u001b[49m\n\u001b[32m      3\u001b[39m \u001b[38;5;250;43m    \u001b[39;49m\u001b[33;43;03m\"\"\" Rotate the list l by n, returning a new list that starts with the \u001b[39;49;00m\n\u001b[32m      4\u001b[39m \u001b[33;43;03m    nth element, through to the end of the list, followed by the first element up\u001b[39;49;00m\n\u001b[32m      5\u001b[39m \u001b[33;43;03m    through the (n-1)th (note that n is specified using zero-indexing)\"\"\"\u001b[39;49;00m\n\u001b[32m      6\u001b[39m \u001b[43m    \u001b[49m\u001b[38;5;28;43;01mreturn\u001b[39;49;00m\u001b[43m \u001b[49m\u001b[43ml\u001b[49m\u001b[43m[\u001b[49m\u001b[43mn\u001b[49m\u001b[43m:\u001b[49m\u001b[43m]\u001b[49m\u001b[43m \u001b[49m\u001b[43m+\u001b[49m\u001b[43m \u001b[49m\u001b[43ml\u001b[49m\u001b[43m[\u001b[49m\u001b[43m:\u001b[49m\u001b[43mn\u001b[49m\u001b[43m]\u001b[49m\n",
      "\u001b[36mFile \u001b[39m\u001b[32m~/code/datascience/datascience/venv/lib/python3.12/site-packages/mugrade/mugrade.py:182\u001b[39m, in \u001b[36msubmit_tests.<locals>.wrap\u001b[39m\u001b[34m(func)\u001b[39m\n\u001b[32m    180\u001b[39m _values = []\n\u001b[32m    181\u001b[39m _errors = \u001b[32m0\u001b[39m\n\u001b[32m--> \u001b[39m\u001b[32m182\u001b[39m _submission_key = \u001b[43mstart_submission\u001b[49m\u001b[43m(\u001b[49m\u001b[43mfunc\u001b[49m\u001b[43m.\u001b[49m\u001b[34;43m__name__\u001b[39;49m\u001b[43m)\u001b[49m\n\u001b[32m    184\u001b[39m \u001b[38;5;28mprint\u001b[39m(\u001b[33m\"\u001b[39m\u001b[33mSubmitting tests for function \u001b[39m\u001b[38;5;132;01m{}\u001b[39;00m\u001b[33m():\u001b[39m\u001b[33m\"\u001b[39m.format(func.\u001b[34m__name__\u001b[39m))\n\u001b[32m    185\u001b[39m test_func()\n",
      "\u001b[36mFile \u001b[39m\u001b[32m~/code/datascience/datascience/venv/lib/python3.12/site-packages/mugrade/mugrade.py:45\u001b[39m, in \u001b[36mstart_submission\u001b[39m\u001b[34m(func_name)\u001b[39m\n\u001b[32m     43\u001b[39m \u001b[38;5;28;01mif\u001b[39;00m response.status_code != \u001b[32m200\u001b[39m:\n\u001b[32m     44\u001b[39m     \u001b[38;5;28;01mraise\u001b[39;00m \u001b[38;5;167;01mException\u001b[39;00m(\u001b[33mf\u001b[39m\u001b[33m\"\u001b[39m\u001b[33mError : \u001b[39m\u001b[38;5;132;01m{\u001b[39;00mresponse.text\u001b[38;5;132;01m}\u001b[39;00m\u001b[33m\"\u001b[39m)\n\u001b[32m---> \u001b[39m\u001b[32m45\u001b[39m \u001b[38;5;28;01mreturn\u001b[39;00m \u001b[43mresponse\u001b[49m\u001b[43m.\u001b[49m\u001b[43mjson\u001b[49m\u001b[43m(\u001b[49m\u001b[43m)\u001b[49m\u001b[43m[\u001b[49m\u001b[33;43m\"\u001b[39;49m\u001b[33;43msubmission_key\u001b[39;49m\u001b[33;43m\"\u001b[39;49m\u001b[43m]\u001b[49m\n",
      "\u001b[31mKeyError\u001b[39m: 'submission_key'"
     ]
    }
   ],
   "source": [
    "@mugrade.submit_tests(\"YOUR GRADER KEY HERE\")\n",
    "def rotate_list(l, n):\n",
    "    \"\"\" Rotate the list l by n, returning a new list that starts with the \n",
    "    nth element, through to the end of the list, followed by the first element up\n",
    "    through the (n-1)th (note that n is specified using zero-indexing)\"\"\"\n",
    "    return l[n:] + l[:n]"
   ]
  },
  {
   "cell_type": "markdown",
   "metadata": {},
   "source": [
    "After these tests have passed, you should be able to navigate to the \"Homework 1\" link on the mugrade website and see your autograding result.\n",
    "\n",
    "The way this works internally is that the `mugrade_test_cases.py` file _also_ contains test cases that are run checked with the autograder.  Note that unlike a lot of autograding systems, we are _not_ running your code against mystery inputs, but actually tell you the inputs and the post-processing steps to run.  This is the relevant section of the file:\n",
    "\n",
    "```python\n",
    "def submit_rotate_list():\n",
    "    mugrade.submit(rotate_list([1, 2, 3, 4], 1))\n",
    "    mugrade.submit(rotate_list([1, 2, 3, 4], 3))\n",
    "    mugrade.submit(rotate_list([1, 2, 3, 4, 5], 3))\n",
    "    mugrade.submit(rotate_list([1], 1))\n",
    "    mugrade.submit(rotate_list([], 0))\n",
    "```\n",
    "\n",
    "Note that these cases look a lot like the above local cases, except that there is no specified `target`.  What is being done is that we compute the output of your function locally, then send this result to the server that checks it against the reference solution.  Thus, all compute happens locally, and the grading server is just doing fairly simple checks against reference values.  You can of course debug your code against these test cases too (this can be useful, for instance, if your code has an but that causes it to throw an exception when run on these grader cases), but the hope is that the full local test cases provide enough guidance in most cases."
   ]
  },
  {
   "cell_type": "markdown",
   "metadata": {},
   "source": [
    "# Q2: Reversing a dictionary"
   ]
  },
  {
   "cell_type": "markdown",
   "metadata": {},
   "source": [
    "Now that you've gone through the process of submitting the example above, let's consider a new (still very simple) question.  You're asked to write a function that will reverse a dictionary, i.e., for a dictionary with given key/value pairs, you should return a dictionary with the keys corresponding the previous values, and values corresponding to the previous keys.  Note: you may remember from class that this is not always possible, as not all objects  that could be values could be used as keys, or two values could be identical.  Don't worry about this here, (as you can even see from the `mugrade_test_cases.py` file, if you want) we will only be running the function on dictionaries that can be reversed in this manner.\n",
    "\n",
    "For the function below, go through the whole process of implementing the function, running the local checks, and submitting the solution (you can do this all the same code cell, just adding/changing function decorators after different iterations)."
   ]
  },
  {
   "cell_type": "code",
   "execution_count": 84,
   "metadata": {},
   "outputs": [
    {
     "name": "stdout",
     "output_type": "stream",
     "text": [
      "Running local tests for function reverse_dict():\n",
      "  Test 1 PASSED\n",
      "  Test 2 PASSED\n"
     ]
    }
   ],
   "source": [
    "@mugrade.local_tests\n",
    "def reverse_dict(d):\n",
    "    \"\"\" Return a new dictionary with the roles of keys/values swapped.\"\"\"\n",
    "    return {v:k for k, v in d.items()}\n",
    "\n",
    "def reverse_dict2(d):\n",
    "    \"\"\" Return a new dictionary with the roles of keys/values swapped.\"\"\"\n",
    "    return {d[k]: k for k in d}"
   ]
  },
  {
   "cell_type": "code",
   "execution_count": 85,
   "metadata": {},
   "outputs": [],
   "source": [
    "import time\n",
    "def timeit(f, iters=5):\n",
    "    avg = 0\n",
    "    print(\"new test\")\n",
    "    for i in range(iters):\n",
    "        start = time.time()\n",
    "        f()\n",
    "        end = time.time()\n",
    "        avg += end - start\n",
    "        print(end - start)\n",
    "    print(\"avg:\", avg / iters)"
   ]
  },
  {
   "cell_type": "code",
   "execution_count": null,
   "metadata": {},
   "outputs": [],
   "source": [
    "import random\n",
    "def generate_dict(size=1000):\n",
    "    d = {}\n",
    "    for i in range(size):\n",
    "        if (k:= str(random.randbytes(random.randint(3,10)))) not in d:\n",
    "            d[k] = 2*k\n",
    "        # print(i,k)\n",
    "    return d\n",
    "d1 = generate_dict(size=10)\n",
    "d2 = generate_dict(size=100)\n",
    "d3 = generate_dict(size=1000)\n",
    "d4 = generate_dict(size=10000)\n",
    "d5 = generate_dict(size=1000000)\n",
    "d6 = generate_dict(size=10000000)\n",
    "d7 = generate_dict(size=100000000)"
   ]
  },
  {
   "cell_type": "code",
   "execution_count": null,
   "metadata": {},
   "outputs": [
    {
     "name": "stdout",
     "output_type": "stream",
     "text": [
      "new test\n",
      "6.67572021484375e-06\n",
      "1.6689300537109375e-06\n",
      "1.1920928955078125e-06\n",
      "7.152557373046875e-07\n",
      "1.1920928955078125e-06\n",
      "avg: 2.288818359375e-06\n",
      "new test\n",
      "2.0503997802734375e-05\n",
      "8.344650268554688e-06\n",
      "6.9141387939453125e-06\n",
      "5.9604644775390625e-06\n",
      "6.198883056640625e-06\n",
      "avg: 9.584426879882813e-06\n",
      "new test\n",
      "0.00012922286987304688\n",
      "7.2479248046875e-05\n",
      "7.581710815429688e-05\n",
      "0.00011849403381347656\n",
      "7.128715515136719e-05\n",
      "avg: 9.34600830078125e-05\n",
      "new test\n",
      "0.0015010833740234375\n",
      "0.0023860931396484375\n",
      "0.0024967193603515625\n",
      "0.0011591911315917969\n",
      "0.0016140937805175781\n",
      "avg: 0.0018314361572265626\n",
      "new test\n",
      "0.48120808601379395\n",
      "0.3900740146636963\n",
      "0.39657115936279297\n",
      "0.4138610363006592\n",
      "0.3311042785644531\n",
      "avg: 0.4025637149810791\n"
     ]
    }
   ],
   "source": [
    "timeit(lambda: reverse_dict(d1))\n",
    "timeit(lambda: reverse_dict(d2))\n",
    "timeit(lambda: reverse_dict(d3))\n",
    "timeit(lambda: reverse_dict(d4))\n",
    "timeit(lambda: reverse_dict(d5))\n",
    "timeit(lambda: reverse_dict(d6))\n",
    "timeit(lambda: reverse_dict(d7))"
   ]
  },
  {
   "cell_type": "code",
   "execution_count": null,
   "metadata": {},
   "outputs": [
    {
     "name": "stdout",
     "output_type": "stream",
     "text": [
      "new test\n",
      "1.0251998901367188e-05\n",
      "2.384185791015625e-06\n",
      "1.1920928955078125e-06\n",
      "9.5367431640625e-07\n",
      "1.1920928955078125e-06\n",
      "avg: 3.1948089599609376e-06\n",
      "new test\n",
      "2.8133392333984375e-05\n",
      "9.775161743164062e-05\n",
      "1.7881393432617188e-05\n",
      "1.5974044799804688e-05\n",
      "1.6927719116210938e-05\n",
      "avg: 3.533363342285156e-05\n",
      "new test\n",
      "0.00020170211791992188\n",
      "0.0002357959747314453\n",
      "9.322166442871094e-05\n",
      "8.106231689453125e-05\n",
      "7.772445678710938e-05\n",
      "avg: 0.00013790130615234374\n",
      "new test\n",
      "0.002015352249145508\n",
      "0.004149913787841797\n",
      "0.0030510425567626953\n",
      "0.004036426544189453\n",
      "0.005230426788330078\n",
      "avg: 0.003696632385253906\n",
      "new test\n",
      "0.6417574882507324\n",
      "0.5456714630126953\n",
      "0.5036380290985107\n",
      "0.5008363723754883\n",
      "0.5250687599182129\n",
      "avg: 0.5433944225311279\n"
     ]
    }
   ],
   "source": [
    "timeit(lambda: reverse_dict2(d1))\n",
    "timeit(lambda: reverse_dict2(d2))\n",
    "timeit(lambda: reverse_dict2(d3))\n",
    "timeit(lambda: reverse_dict2(d4))\n",
    "timeit(lambda: reverse_dict2(d5))\n",
    "timeit(lambda: reverse_dict2(d6))\n",
    "timeit(lambda: reverse_dict2(d7))"
   ]
  }
 ],
 "metadata": {
  "anaconda-cloud": {},
  "kernelspec": {
   "display_name": "venv",
   "language": "python",
   "name": "python3"
  },
  "language_info": {
   "codemirror_mode": {
    "name": "ipython",
    "version": 3
   },
   "file_extension": ".py",
   "mimetype": "text/x-python",
   "name": "python",
   "nbconvert_exporter": "python",
   "pygments_lexer": "ipython3",
   "version": "3.12.3"
  }
 },
 "nbformat": 4,
 "nbformat_minor": 1
}
